{
 "cells": [
  {
   "cell_type": "code",
   "execution_count": 1,
   "metadata": {
    "collapsed": false
   },
   "outputs": [],
   "source": [
    ":set -XOverloadedStrings"
   ]
  },
  {
   "cell_type": "code",
   "execution_count": 2,
   "metadata": {
    "collapsed": false
   },
   "outputs": [],
   "source": [
    "import qualified Data.ByteString as B\n",
    "import qualified Data.ByteString.Lazy as L\n",
    "import Data.Attoparsec.ByteString as AB\n",
    "import Data.Attoparsec.ByteString.Char8 (anyChar)\n",
    "import Prelude hiding (take)\n",
    "import Numeric\n",
    "import Data.ByteString.UTF8 (toString, fromString)\n",
    "import Data.ByteString.Base16 (encode, decode)\n",
    "import Data.List (intercalate)"
   ]
  },
  {
   "cell_type": "code",
   "execution_count": 3,
   "metadata": {
    "collapsed": true
   },
   "outputs": [],
   "source": [
    "let index = B.readFile \".git/index\""
   ]
  },
  {
   "cell_type": "code",
   "execution_count": 4,
   "metadata": {
    "collapsed": false
   },
   "outputs": [],
   "source": [
    "word8s = string . B.pack\n",
    "fromBytes = foldl addByte 0\n",
    "    where addByte num d = (256*num) + d\n",
    "\n",
    "toBytes n = case divMod n 256 of\n",
    "    (0, i) -> [i]\n",
    "    (x, y) -> toBytes x ++ toBytes y\n",
    "\n",
    "\n",
    "fromPack :: B.ByteString -> Int\n",
    "fromPack = fromBytes . map (fromIntegral . toInteger) . B.unpack\n",
    "\n",
    "toPack len num = let bytes   = toBytes num :: [Int]\n",
    "                     pNum    = len - length bytes\n",
    "                     padding = replicate pNum 0\n",
    "                  in B.pack $ map fromIntegral (padding ++ bytes)"
   ]
  },
  {
   "cell_type": "code",
   "execution_count": 5,
   "metadata": {
    "collapsed": false,
    "scrolled": true
   },
   "outputs": [],
   "source": [
    "data Index = Index\n",
    "    { indexVersion :: Int\n",
    "    , indexEntries :: [IndexEntry]\n",
    "    , indexExtra   :: B.ByteString}\n",
    "\n",
    "data IndexEntry = IndexEntry\n",
    "    { metadataChanged  :: Int\n",
    "    , metadataFraction :: Int\n",
    "    , dataChanged      :: Int\n",
    "    , dataFraction     :: Int\n",
    "    , dev              :: Int\n",
    "    , ino              :: Int\n",
    "    , mode             :: Int\n",
    "    , uid              :: Int\n",
    "    , gid              :: Int\n",
    "    , fileSize         :: Int\n",
    "    , sha1             :: B.ByteString\n",
    "    , flags            :: Int\n",
    "    , name             :: B.ByteString}\n",
    "    deriving (Eq)\n",
    "\n",
    "instance Show IndexEntry where\n",
    "    show (IndexEntry mChanged mFraction dChanged dFraction dev ino mode uid gid size sha1 flags name) = intercalate \" \" components\n",
    "        where components = (map show [mChanged, mFraction, dChanged, dFraction, dev, ino, mode, uid, gid, size]) ++ [toString sha1, show flags, toString name]   \n",
    "\n",
    "parseIndexEntry 2 = IndexEntry\n",
    "    <$> (fromPack <$> take 4)\n",
    "    <*> (fromPack <$> take 4)\n",
    "    <*> (fromPack <$> take 4)           \n",
    "    <*> (fromPack <$> take 4)           -- dataFraction\n",
    "    <*> (fromPack <$> take 4)           -- dev\n",
    "    <*> (fromPack <$> take 4)           -- ino\n",
    "    <*> (fromPack <$> take 4)           -- mode\n",
    "    <*> (fromPack <$> take 4)           -- uid\n",
    "    <*> (fromPack <$> take 4)           -- gid\n",
    "    <*> (fromPack <$> take 4)           -- fileSize\n",
    "    <*> (encode   <$> take 20)          -- sha1\n",
    "    <*> (fromPack <$> take 2)           -- flags\n",
    "    <*> (do name <- takeTill (==0) \n",
    "            count (8 - ((6 + B.length name) `mod` 8)) $ string \"\\NUL\"\n",
    "            return name)\n",
    "    \n",
    "parseIndexEntry _ = undefined\n",
    "\n",
    "parseIndex = do\n",
    "    string \"DIRC\"\n",
    "    version     <- fromPack <$> (choice $ map word8s [[0,0,0,2], [0,0,0,3], [0,0,0,4]])\n",
    "    noOfEntries <- fromPack <$> take 4\n",
    "    entries     <- count noOfEntries $ parseIndexEntry version\n",
    "    rest        <- takeByteString\n",
    "    return $ Index version entries rest\n",
    "\n",
    "parsedIndex <- either error id . parseOnly parseIndex <$> index\n",
    "entries = indexEntries parsedIndex"
   ]
  },
  {
   "cell_type": "code",
   "execution_count": 6,
   "metadata": {
    "collapsed": false
   },
   "outputs": [],
   "source": [
    "unparseIndexEntry 2 entry = B.concat components\n",
    "    where components = [ toPack 4 $ metadataChanged   entry\n",
    "                       , toPack 4 $ metadataFraction entry\n",
    "                       , toPack 4 $ dataChanged      entry\n",
    "                       , toPack 4 $ dataFraction     entry\n",
    "                       , toPack 4 $ dev              entry\n",
    "                       , toPack 4 $ ino              entry\n",
    "                       , toPack 4 $ mode             entry\n",
    "                       , toPack 4 $ uid              entry\n",
    "                       , toPack 4 $ gid              entry\n",
    "                       , toPack 4 $ fileSize         entry\n",
    "                       , fst $ decode $ sha1         entry\n",
    "                       , toPack 2 $ flags            entry\n",
    "                       ,            name             entry\n",
    "                       , B.concat $ replicate (8 - ((6 + B.length (name entry)) `mod` 8)) \"\\NUL\"]"
   ]
  },
  {
   "cell_type": "code",
   "execution_count": 7,
   "metadata": {
    "collapsed": false
   },
   "outputs": [],
   "source": [
    "reparse e = either error id $ parseOnly (parseIndexEntry 2) (unparseIndexEntry 2 e)\n",
    "checkEqual e = reparse e == e"
   ]
  },
  {
   "cell_type": "code",
   "execution_count": 8,
   "metadata": {
    "collapsed": false
   },
   "outputs": [
    {
     "data": {
      "text/plain": [
       "True"
      ]
     },
     "metadata": {},
     "output_type": "display_data"
    }
   ],
   "source": [
    "all checkEqual entries"
   ]
  },
  {
   "cell_type": "code",
   "execution_count": 10,
   "metadata": {
    "collapsed": false
   },
   "outputs": [
    {
     "data": {
      "text/plain": [
       "[87,20,221,157]"
      ]
     },
     "metadata": {},
     "output_type": "display_data"
    }
   ],
   "source": [
    "toBytes 1460985245"
   ]
  },
  {
   "cell_type": "code",
   "execution_count": 12,
   "metadata": {
    "collapsed": false
   },
   "outputs": [
    {
     "data": {
      "text/plain": [
       "[\".ci/update_pages.sh\",\".gitignore\",\".travis.yml\",\"Index.ipynb\",\"LICENSE\",\"README.md\",\"Setup.hs\",\"demo.ipynb\",\"duffer.cabal\",\"presentation/presentation.md\",\"src/Duffer.hs\",\"src/Duffer/Loose.hs\",\"src/Duffer/Loose/Objects.hs\",\"src/Duffer/Loose/Parser.hs\",\"src/Duffer/Pack.hs\",\"src/Duffer/Pack/Entries.hs\",\"src/Duffer/Pack/File.hs\",\"src/Duffer/Pack/Parser.hs\",\"src/Duffer/Pack/Streaming.hs\",\"src/Duffer/Plumbing.hs\",\"src/Duffer/Unified.hs\",\"src/Duffer/WithRepo.hs\",\"stack.yaml\",\"test/Spec.hs\"]"
      ]
     },
     "metadata": {},
     "output_type": "display_data"
    }
   ],
   "source": [
    "map name entries"
   ]
  }
 ],
 "metadata": {
  "kernelspec": {
   "display_name": "Haskell",
   "language": "haskell",
   "name": "haskell"
  },
  "language_info": {
   "codemirror_mode": "ihaskell",
   "file_extension": ".hs",
   "name": "haskell",
   "version": "7.10.3"
  }
 },
 "nbformat": 4,
 "nbformat_minor": 0
}
