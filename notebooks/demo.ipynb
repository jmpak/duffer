{
 "cells": [
  {
   "cell_type": "code",
   "execution_count": 1,
   "metadata": {
    "collapsed": true
   },
   "outputs": [],
   "source": [
    ":set -XOverloadedStrings\n",
    "\n",
    "import Data.Maybe (fromJust)\n",
    "import qualified Data.Set as S\n",
    "\n",
    "import Prelude hiding ((^^))\n",
    "\n",
    "import Duffer\n",
    "import Duffer.Loose\n",
    "import Duffer.Loose.Objects\n",
    "import Duffer.WithRepo\n",
    "import Duffer.Unified\n",
    "\n",
    "duffer = withRepo \"../.git\"\n",
    "resolveRef' = fmap fromJust . resolveRef\n",
    "readObject' = fmap fromJust . readObject"
   ]
  },
  {
   "cell_type": "markdown",
   "metadata": {},
   "source": [
    "Let's start with a raw representation of the most recent commit:"
   ]
  },
  {
   "cell_type": "code",
   "execution_count": 2,
   "metadata": {
    "scrolled": true
   },
   "outputs": [
    {
     "data": {
      "text/plain": [
       "commit cebcb3302302809f25c190c5add9bb720dcb0493\n",
       "tree ad20585018a493aa864df6a1a180795d9e1bf962\n",
       "parent a593fffc837b481fffb09708c978d7ae0c4bd1d3\n",
       "author Vaibhav Sagar <vaibhavsagar@gmail.com> 1501773615 +0800\n",
       "committer Vaibhav Sagar <vaibhavsagar@gmail.com> 1501805943 +0800\n",
       "\n",
       "    Refactor GitObject data type"
      ]
     },
     "metadata": {},
     "output_type": "display_data"
    }
   ],
   "source": [
    ":!git show --format=raw -s"
   ]
  },
  {
   "cell_type": "markdown",
   "metadata": {},
   "source": [
    "I'm currently on the `master` branch, so another way to get to this object is as follows:"
   ]
  },
  {
   "cell_type": "code",
   "execution_count": 3,
   "metadata": {},
   "outputs": [
    {
     "data": {
      "text/plain": [
       "tree ad20585018a493aa864df6a1a180795d9e1bf962\n",
       "parent a593fffc837b481fffb09708c978d7ae0c4bd1d3\n",
       "author Vaibhav Sagar <vaibhavsagar@gmail.com> 1501773615 +0800\n",
       "committer Vaibhav Sagar <vaibhavsagar@gmail.com> 1501805943 +0800\n",
       "\n",
       "Refactor GitObject data type"
      ]
     },
     "metadata": {},
     "output_type": "display_data"
    }
   ],
   "source": [
    "duffer (resolveRef' \"refs/heads/master\")"
   ]
  },
  {
   "cell_type": "markdown",
   "metadata": {},
   "source": [
    "A commit refers to a `tree`, which is `git`'s way of storing a directory. An example tree looks like\n",
    "\n",
    "<img src=\"https://git-scm.com/book/en/v2/book/10-git-internals/images/data-model-2.png\">\n",
    "Source: https://git-scm.com/book/en/v2/Git-Internals-Git-Objects"
   ]
  },
  {
   "cell_type": "markdown",
   "metadata": {},
   "source": [
    "We can view the pretty-printed contents of a `git` object with `cat-file -p`. Each commit has a `tree` associated with it which represents a directory, in this case the root project folder."
   ]
  },
  {
   "cell_type": "code",
   "execution_count": 4,
   "metadata": {},
   "outputs": [
    {
     "data": {
      "text/plain": [
       "040000 tree f8db550f29991a4c0cf30bab423abc1714b76dca\t.ci\n",
       "100644 blob 417c681b2e9c4d6d1f5da3fcd1afb3dd2c35d364\t.gitignore\n",
       "100644 blob f4f9a6020fe720baefcd13ab406b3096e49359b6\t.hlint.yaml\n",
       "100644 blob 7209b5526b6c91a5c76f23ae1a6d22f744def2d2\t.travis.yml\n",
       "100644 blob cdd96137b2bafb26259aaaebe802c05e6e2e1049\tREADME.md\n",
       "040000 tree 9095a580da426e1e279cbed785650be4632d327d\tduffer-json\n",
       "040000 tree 9d9da5d80cb1ecd48b8a7ee4f27c52659a814d0b\tduffer-streaming\n",
       "040000 tree de6051b24241a2b797d2c769b67a5c95c9d19301\tduffer\n",
       "040000 tree 783002195bf5521f37cd14645321ad464830a173\tihaskell-duffer\n",
       "040000 tree 0211e67887f7d6c3f6a7bb57c1b03e2e12f9378d\tnotebooks\n",
       "040000 tree dff6c74841b8ad1f0a986b9d3dd46f5afa4947eb\tpresentation\n",
       "100644 blob 173e4da4e6a9aa80371700f2ff475b71584f03fe\trelease.nix\n",
       "100644 blob f1cec41def89f4011c1df0486564de0e6d94f7dc\tstack.yaml"
      ]
     },
     "metadata": {},
     "output_type": "display_data"
    }
   ],
   "source": [
    ":!git cat-file -p master^{tree}"
   ]
  },
  {
   "cell_type": "markdown",
   "metadata": {},
   "source": [
    "Again, we can obtain almost identical (modulo formatting) output with `duffer`:"
   ]
  },
  {
   "cell_type": "code",
   "execution_count": 5,
   "metadata": {},
   "outputs": [
    {
     "data": {
      "text/plain": [
       "040000\ttree\tf8db550f29991a4c0cf30bab423abc1714b76dca\t.ci\n",
       "100644\tblob\t417c681b2e9c4d6d1f5da3fcd1afb3dd2c35d364\t.gitignore\n",
       "100644\tblob\tf4f9a6020fe720baefcd13ab406b3096e49359b6\t.hlint.yaml\n",
       "100644\tblob\t7209b5526b6c91a5c76f23ae1a6d22f744def2d2\t.travis.yml\n",
       "100644\tblob\tcdd96137b2bafb26259aaaebe802c05e6e2e1049\tREADME.md\n",
       "040000\ttree\t9095a580da426e1e279cbed785650be4632d327d\tduffer-json\n",
       "040000\ttree\t9d9da5d80cb1ecd48b8a7ee4f27c52659a814d0b\tduffer-streaming\n",
       "040000\ttree\tde6051b24241a2b797d2c769b67a5c95c9d19301\tduffer\n",
       "040000\ttree\t783002195bf5521f37cd14645321ad464830a173\tihaskell-duffer\n",
       "040000\ttree\t0211e67887f7d6c3f6a7bb57c1b03e2e12f9378d\tnotebooks\n",
       "040000\ttree\tdff6c74841b8ad1f0a986b9d3dd46f5afa4947eb\tpresentation\n",
       "100644\tblob\t173e4da4e6a9aa80371700f2ff475b71584f03fe\trelease.nix\n",
       "100644\tblob\tf1cec41def89f4011c1df0486564de0e6d94f7dc\tstack.yaml"
      ]
     },
     "metadata": {},
     "output_type": "display_data"
    }
   ],
   "source": [
    "duffer $ do\n",
    "    GitCommit master <- resolveRef' \"refs/heads/master\"\n",
    "    let tree  =  commitTreeRef master\n",
    "    readObject' tree"
   ]
  },
  {
   "cell_type": "markdown",
   "metadata": {},
   "source": [
    "`git` implements a giant hashtable on the filesystem using SHA1 as the hashing function. It stores all the past files and directory listings as `zlib`-compressed text files (with a header denoting object type and length) under `.git/objects` as follows:\n",
    "\n",
    "1. Compute a SHA1 hash of the content.\n",
    "2. `zlib`-compress the content.\n",
    "3. Take the first 2 characters of the hash. This is the subdirectory under `.git/objects` where the content will be stored.\n",
    "4. The remaining 38 characters of the hash are the filename.\n",
    "\n",
    "<img src=\"//git-scm.com/book/en/v2/book/10-git-internals/images/data-model-3.png\">\n",
    "Source: https://git-scm.com/book/en/v2/Git-Internals-Git-Objects"
   ]
  },
  {
   "cell_type": "markdown",
   "metadata": {},
   "source": [
    "For example, a decompressed commit looks like:"
   ]
  },
  {
   "cell_type": "code",
   "execution_count": 6,
   "metadata": {},
   "outputs": [
    {
     "data": {
      "text/plain": [
       "commit 287\u0000tree 0b36647819f93c5523b5967d19cb131d88ab1be4\n",
       "parent 2577894fb379a7cbe2e3bfd3ba325f4e451bbb5f\n",
       "parent d72ae27a9ae58d49235ff9761cfae816b004d9b1\n",
       "author Vaibhav Sagar <vaibhavsagar@gmail.com> 1473766850 -0400\n",
       "committer Vaibhav Sagar <vaibhavsagar@gmail.com> 1473766850 -0400\n",
       "\n",
       "Add porcelain."
      ]
     },
     "metadata": {},
     "output_type": "display_data"
    }
   ],
   "source": [
    ":!cat ../.git/objects/4b/d9b179bb166b85e3e889f9f263f1b5a26f3e34 | zlib-flate -uncompress"
   ]
  },
  {
   "cell_type": "code",
   "execution_count": 7,
   "metadata": {},
   "outputs": [
    {
     "data": {
      "text/plain": [
       "tree 0b36647819f93c5523b5967d19cb131d88ab1be4\n",
       "parent 2577894fb379a7cbe2e3bfd3ba325f4e451bbb5f\n",
       "parent d72ae27a9ae58d49235ff9761cfae816b004d9b1\n",
       "author Vaibhav Sagar <vaibhavsagar@gmail.com> 1473766850 -0400\n",
       "committer Vaibhav Sagar <vaibhavsagar@gmail.com> 1473766850 -0400\n",
       "\n",
       "Add porcelain."
      ]
     },
     "metadata": {},
     "output_type": "display_data"
    }
   ],
   "source": [
    "duffer $ readObject' \"4bd9b179bb166b85e3e889f9f263f1b5a26f3e34\""
   ]
  },
  {
   "cell_type": "code",
   "execution_count": 8,
   "metadata": {},
   "outputs": [
    {
     "data": {
      "text/plain": [
       "  bits\n",
       "  datatype-refactoring\n",
       "  gh-pages\n",
       "* master\n",
       "  prime-cache"
      ]
     },
     "metadata": {},
     "output_type": "display_data"
    }
   ],
   "source": [
    ":!git branch"
   ]
  },
  {
   "cell_type": "code",
   "execution_count": 9,
   "metadata": {},
   "outputs": [
    {
     "data": {
      "text/plain": [
       "tree 839e183f0ea13dde4aba8b0963546f75fe78ba50\n",
       "parent 6e86f14c06f8251715d7e077c38a0bef3626779e\n",
       "author Vaibhav Sagar <vaibhavsagar@gmail.com> 1501721402 +0800\n",
       "committer Vaibhav Sagar <vaibhavsagar@gmail.com> 1501721402 +0800\n",
       "\n",
       "Use (&&&)"
      ]
     },
     "metadata": {},
     "output_type": "display_data"
    }
   ],
   "source": [
    "duffer $ do\n",
    "    current  <- resolveRef' \"refs/heads/master\"\n",
    "    parent   <- fromJust <$> current ^^ 1\n",
    "    fromJust <$> parent ~~ 1"
   ]
  },
  {
   "cell_type": "markdown",
   "metadata": {},
   "source": [
    "As mentioned previously, the hash of a `git` object uniquely identifies it in the giant hashtable that is `git`"
   ]
  },
  {
   "cell_type": "code",
   "execution_count": 10,
   "metadata": {},
   "outputs": [
    {
     "data": {
      "text/plain": [
       "\"a28aded05daa52ff5d0c77cd6186b1ce0faf7c8c\""
      ]
     },
     "metadata": {},
     "output_type": "display_data"
    }
   ],
   "source": [
    "tree <- duffer $ readObject' \"a28aded05daa52ff5d0c77cd6186b1ce0faf7c8c\"\n",
    "hash tree"
   ]
  },
  {
   "cell_type": "markdown",
   "metadata": {},
   "source": [
    "`git` refers to files as `blob`s."
   ]
  },
  {
   "cell_type": "code",
   "execution_count": 11,
   "metadata": {
    "scrolled": true
   },
   "outputs": [
    {
     "data": {
      "text/plain": [
       "Copyright Vaibhav Sagar (c) 2015\n",
       "\n",
       "All rights reserved.\n",
       "\n",
       "Redistribution and use in source and binary forms, with or without\n",
       "modification, are permitted provided that the following conditions are met:\n",
       "\n",
       "    * Redistributions of source code must retain the above copyright\n",
       "      notice, this list of conditions and the following disclaimer.\n",
       "\n",
       "    * Redistributions in binary form must reproduce the above\n",
       "      copyright notice, this list of conditions and the following\n",
       "      disclaimer in the documentation and/or other materials provided\n",
       "      with the distribution.\n",
       "\n",
       "    * Neither the name of Vaibhav Sagar nor the names of other\n",
       "      contributors may be used to endorse or promote products derived\n",
       "      from this software without specific prior written permission.\n",
       "\n",
       "THIS SOFTWARE IS PROVIDED BY THE COPYRIGHT HOLDERS AND CONTRIBUTORS\n",
       "\"AS IS\" AND ANY EXPRESS OR IMPLIED WARRANTIES, INCLUDING, BUT NOT\n",
       "LIMITED TO, THE IMPLIED WARRANTIES OF MERCHANTABILITY AND FITNESS FOR\n",
       "A PARTICULAR PURPOSE ARE DISCLAIMED. IN NO EVENT SHALL THE COPYRIGHT\n",
       "OWNER OR CONTRIBUTORS BE LIABLE FOR ANY DIRECT, INDIRECT, INCIDENTAL,\n",
       "SPECIAL, EXEMPLARY, OR CONSEQUENTIAL DAMAGES (INCLUDING, BUT NOT\n",
       "LIMITED TO, PROCUREMENT OF SUBSTITUTE GOODS OR SERVICES; LOSS OF USE,\n",
       "DATA, OR PROFITS; OR BUSINESS INTERRUPTION) HOWEVER CAUSED AND ON ANY\n",
       "THEORY OF LIABILITY, WHETHER IN CONTRACT, STRICT LIABILITY, OR TORT\n",
       "(INCLUDING NEGLIGENCE OR OTHERWISE) ARISING IN ANY WAY OUT OF THE USE\n",
       "OF THIS SOFTWARE, EVEN IF ADVISED OF THE POSSIBILITY OF SUCH DAMAGE."
      ]
     },
     "metadata": {},
     "output_type": "display_data"
    }
   ],
   "source": [
    "duffer $ readObject' \"b75f4c9dbe3b61cacba052f23461834468832e41\""
   ]
  },
  {
   "cell_type": "markdown",
   "metadata": {},
   "source": [
    "The last type of `git` object is a `tag`, which gives a name to another `git` object."
   ]
  },
  {
   "cell_type": "code",
   "execution_count": 12,
   "metadata": {},
   "outputs": [
    {
     "data": {
      "text/plain": [
       "object 25354a5cfebca0261cdaa87ebef3a6b9dcb9c13a\n",
       "type commit\n",
       "tag test\n",
       "tagger Vaibhav Sagar <vaibhavsagar@gmail.com> 1459935215 +1000\n",
       "\n",
       "Test tag."
      ]
     },
     "metadata": {},
     "output_type": "display_data"
    }
   ],
   "source": [
    "duffer $ readObject' \"d4b1e0343313ab60688cf0ddfa8ae5d8fe60ec23\""
   ]
  },
  {
   "cell_type": "markdown",
   "metadata": {},
   "source": [
    "`duffer` is pretty great at reading `git` repositories, but that's not all you can do with it. You can also add content to a `git` repository with it:"
   ]
  },
  {
   "cell_type": "code",
   "execution_count": 13,
   "metadata": {},
   "outputs": [
    {
     "data": {
      "text/plain": [
       "\"95d09f2b10159347eece71399a7e2e907ea3df4f\""
      ]
     },
     "metadata": {},
     "output_type": "display_data"
    }
   ],
   "source": [
    "import Data.ByteString.UTF8 (fromString, toString)\n",
    "blob = GitBlob $ Blob (fromString \"hello world\")\n",
    "duffer $ writeLooseObject blob"
   ]
  },
  {
   "cell_type": "code",
   "execution_count": 14,
   "metadata": {},
   "outputs": [
    {
     "data": {
      "text/plain": [
       "hello world"
      ]
     },
     "metadata": {},
     "output_type": "display_data"
    }
   ],
   "source": [
    ":!git cat-file -p 95d09f2b10159347eece71399a7e2e907ea3df4f"
   ]
  },
  {
   "cell_type": "code",
   "execution_count": 15,
   "metadata": {},
   "outputs": [
    {
     "data": {
      "text/plain": [
       "  bits\n",
       "  datatype-refactoring\n",
       "  gh-pages\n",
       "* master\n",
       "  prime-cache"
      ]
     },
     "metadata": {},
     "output_type": "display_data"
    }
   ],
   "source": [
    ":!git branch"
   ]
  },
  {
   "cell_type": "code",
   "execution_count": 16,
   "metadata": {},
   "outputs": [
    {
     "data": {
      "text/plain": [
       "\"cebcb3302302809f25c190c5add9bb720dcb0493\""
      ]
     },
     "metadata": {},
     "output_type": "display_data"
    }
   ],
   "source": [
    "currentCommitObject = resolveRef' \"refs/heads/master\"\n",
    "duffer $ currentCommitObject >>= \\commit -> updateRef \"refs/heads/new-branch\" commit"
   ]
  },
  {
   "cell_type": "code",
   "execution_count": 17,
   "metadata": {},
   "outputs": [
    {
     "data": {
      "text/plain": [
       "  bits\n",
       "  datatype-refactoring\n",
       "  gh-pages\n",
       "* master\n",
       "  new-branch\n",
       "  prime-cache"
      ]
     },
     "metadata": {},
     "output_type": "display_data"
    }
   ],
   "source": [
    ":!git branch"
   ]
  },
  {
   "cell_type": "code",
   "execution_count": 18,
   "metadata": {},
   "outputs": [
    {
     "data": {
      "text/plain": [
       "040000\ttree\tf8db550f29991a4c0cf30bab423abc1714b76dca\t.ci\n",
       "100644\tblob\t417c681b2e9c4d6d1f5da3fcd1afb3dd2c35d364\t.gitignore\n",
       "100644\tblob\tf4f9a6020fe720baefcd13ab406b3096e49359b6\t.hlint.yaml\n",
       "100644\tblob\t7209b5526b6c91a5c76f23ae1a6d22f744def2d2\t.travis.yml\n",
       "100644\tblob\tcdd96137b2bafb26259aaaebe802c05e6e2e1049\tREADME.md\n",
       "040000\ttree\t9095a580da426e1e279cbed785650be4632d327d\tduffer-json\n",
       "040000\ttree\t9d9da5d80cb1ecd48b8a7ee4f27c52659a814d0b\tduffer-streaming\n",
       "040000\ttree\tde6051b24241a2b797d2c769b67a5c95c9d19301\tduffer\n",
       "040000\ttree\t783002195bf5521f37cd14645321ad464830a173\tihaskell-duffer\n",
       "040000\ttree\t0211e67887f7d6c3f6a7bb57c1b03e2e12f9378d\tnotebooks\n",
       "040000\ttree\tdff6c74841b8ad1f0a986b9d3dd46f5afa4947eb\tpresentation\n",
       "100644\tblob\t173e4da4e6a9aa80371700f2ff475b71584f03fe\trelease.nix\n",
       "100644\tblob\tf1cec41def89f4011c1df0486564de0e6d94f7dc\tstack.yaml"
      ]
     },
     "metadata": {},
     "output_type": "display_data"
    }
   ],
   "source": [
    "rootTreeObject <- duffer $ currentCommitObject >>= (\\(GitCommit c) -> return $ commitTreeRef c) >>= readObject' \n",
    "rootTreeObject"
   ]
  },
  {
   "cell_type": "code",
   "execution_count": 19,
   "metadata": {},
   "outputs": [
    {
     "data": {
      "text/plain": [
       "\"5fdd80cfd4669041838341ca3e8d0bf9fa798bd2\""
      ]
     },
     "metadata": {},
     "output_type": "display_data"
    }
   ],
   "source": [
    "GitTree rootTree = rootTreeObject\n",
    "newFile = TreeEntry Regular \"new-file\" \"95d09f2b10159347eece71399a7e2e907ea3df4f\"\n",
    "duffer $ do\n",
    "    let entries    =  treeEntries rootTree\n",
    "    let newEntries =  S.insert newFile entries\n",
    "    newTree        <- writeLooseObject . GitTree $ Tree newEntries\n",
    "    let me         =  PersonTime \"Vaibhav Sagar\" \"vaibhavsagar@gmail.com\" \"1461156164\" \"+1000\" \n",
    "    let newCommit  =  GitCommit $ Commit newTree [\"d76238fed6c656183a4d4dcf287217a061043869\"] me me Nothing \"New commit.\"\n",
    "    newHead        <- writeLooseObject newCommit\n",
    "    updateRef \"refs/heads/new-branch\" newCommit"
   ]
  },
  {
   "cell_type": "code",
   "execution_count": 20,
   "metadata": {},
   "outputs": [
    {
     "data": {
      "text/plain": [
       "040000\ttree\tf8db550f29991a4c0cf30bab423abc1714b76dca\t.ci\n",
       "100644\tblob\t417c681b2e9c4d6d1f5da3fcd1afb3dd2c35d364\t.gitignore\n",
       "100644\tblob\tf4f9a6020fe720baefcd13ab406b3096e49359b6\t.hlint.yaml\n",
       "100644\tblob\t7209b5526b6c91a5c76f23ae1a6d22f744def2d2\t.travis.yml\n",
       "100644\tblob\tcdd96137b2bafb26259aaaebe802c05e6e2e1049\tREADME.md\n",
       "040000\ttree\t9095a580da426e1e279cbed785650be4632d327d\tduffer-json\n",
       "040000\ttree\t9d9da5d80cb1ecd48b8a7ee4f27c52659a814d0b\tduffer-streaming\n",
       "040000\ttree\tde6051b24241a2b797d2c769b67a5c95c9d19301\tduffer\n",
       "040000\ttree\t783002195bf5521f37cd14645321ad464830a173\tihaskell-duffer\n",
       "100644\tblob\t95d09f2b10159347eece71399a7e2e907ea3df4f\tnew-file\n",
       "040000\ttree\t0211e67887f7d6c3f6a7bb57c1b03e2e12f9378d\tnotebooks\n",
       "040000\ttree\tdff6c74841b8ad1f0a986b9d3dd46f5afa4947eb\tpresentation\n",
       "100644\tblob\t173e4da4e6a9aa80371700f2ff475b71584f03fe\trelease.nix\n",
       "100644\tblob\tf1cec41def89f4011c1df0486564de0e6d94f7dc\tstack.yaml"
      ]
     },
     "metadata": {},
     "output_type": "display_data"
    }
   ],
   "source": [
    "newTree = duffer $ resolveRef' \"refs/heads/new-branch\" >>= (\\(GitCommit c) -> return $ commitTreeRef c) >>= readObject'\n",
    "newTree"
   ]
  }
 ],
 "metadata": {
  "kernelspec": {
   "display_name": "Haskell",
   "language": "haskell",
   "name": "haskell"
  },
  "language_info": {
   "codemirror_mode": "ihaskell",
   "file_extension": ".hs",
   "name": "haskell",
   "version": "8.0.2"
  }
 },
 "nbformat": 4,
 "nbformat_minor": 1
}
