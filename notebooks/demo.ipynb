{
 "cells": [
  {
   "cell_type": "code",
   "execution_count": 1,
   "metadata": {
    "collapsed": false
   },
   "outputs": [],
   "source": [
    ":set -XOverloadedStrings\n",
    "\n",
    "import Data.Maybe (fromJust)\n",
    "import qualified Data.Set as S\n",
    "\n",
    "import Prelude hiding ((^^))\n",
    "\n",
    "import Duffer\n",
    "import Duffer.Loose\n",
    "import Duffer.Loose.Objects\n",
    "import Duffer.WithRepo\n",
    "import Duffer.Unified\n",
    "\n",
    "duffer = withRepo \"../.git\"\n",
    "resolveRef' = fmap fromJust . resolveRef\n",
    "readObject' = fmap fromJust . readObject"
   ]
  },
  {
   "cell_type": "markdown",
   "metadata": {},
   "source": [
    "Let's start with a raw representation of the most recent commit:"
   ]
  },
  {
   "cell_type": "code",
   "execution_count": 2,
   "metadata": {
    "collapsed": false
   },
   "outputs": [
    {
     "data": {
      "text/plain": [
       "commit 1e564b41970850d4195e03426edbed0062a022f6\n",
       "tree bbce9a0c156852d2b404bfb54ca818ada71fc91f\n",
       "parent 1c6c023668956a64c2fc0177150c42f5f3d400e0\n",
       "author Vaibhav Sagar <vaibhavsagar@gmail.com> 1483030098 +0700\n",
       "committer Vaibhav Sagar <vaibhavsagar@gmail.com> 1483030098 +0700\n",
       "\n",
       "    Update path to git index."
      ]
     },
     "metadata": {},
     "output_type": "display_data"
    }
   ],
   "source": [
    ":!git show --format=raw -s"
   ]
  },
  {
   "cell_type": "markdown",
   "metadata": {},
   "source": [
    "I'm currently on the `master` branch, so another way to get to this object is as follows:"
   ]
  },
  {
   "cell_type": "code",
   "execution_count": 3,
   "metadata": {
    "collapsed": false
   },
   "outputs": [
    {
     "data": {
      "text/plain": [
       "tree bbce9a0c156852d2b404bfb54ca818ada71fc91f\n",
       "parent 1c6c023668956a64c2fc0177150c42f5f3d400e0\n",
       "author Vaibhav Sagar <vaibhavsagar@gmail.com> 1483030098 +0700\n",
       "committer Vaibhav Sagar <vaibhavsagar@gmail.com> 1483030098 +0700\n",
       "\n",
       "Update path to git index."
      ]
     },
     "metadata": {},
     "output_type": "display_data"
    }
   ],
   "source": [
    "duffer (resolveRef' \"refs/heads/master\")"
   ]
  },
  {
   "cell_type": "markdown",
   "metadata": {},
   "source": [
    "A commit refers to a `tree`, which is `git`'s way of storing a directory. An example tree looks like\n",
    "\n",
    "<img src=\"https://git-scm.com/book/en/v2/book/10-git-internals/images/data-model-2.png\">\n",
    "Source: https://git-scm.com/book/en/v2/Git-Internals-Git-Objects"
   ]
  },
  {
   "cell_type": "markdown",
   "metadata": {},
   "source": [
    "We can view the pretty-printed contents of a `git` object with `cat-file -p`. Each commit has a `tree` associated with it which represents a directory, in this case the root project folder."
   ]
  },
  {
   "cell_type": "code",
   "execution_count": 4,
   "metadata": {
    "collapsed": false
   },
   "outputs": [
    {
     "data": {
      "text/plain": [
       "040000 tree b8c0fd17ebd7bad61687fe06449b0a484b207efb\t.ci\n",
       "100644 blob 81121aed8fc5c5539cd7cdfddfbd1fa95b0d8d68\t.gitignore\n",
       "100644 blob bb0388c0688bbdf4ca6d6f8dcd8c413af9052fb3\t.travis.yml\n",
       "100644 blob 40047c95db5ba581586d5ced7b041b64a9635512\tLICENSE\n",
       "100644 blob 4386fd1a60c5ad0bc9d7e86a3249f9cbde106368\tREADME.md\n",
       "100644 blob 9a994af677b0dfd41b4e3b76b3e7e604003d64e1\tSetup.hs\n",
       "100644 blob d3ac90107ae9f9fd34a01552afffdbd7d578d4cb\tduffer.cabal\n",
       "040000 tree 4dddc0f36174ea828c2d9b993e18690d469cf756\tnotebooks\n",
       "040000 tree 787554971c1c709fc4e6d143fdad13294387794b\tpresentation\n",
       "040000 tree 1994636ab8b57c3abec68209348c74ecd0704e92\tsrc\n",
       "100644 blob eb74213f76d429860b6f803a9e0a4e8f28bc2fa8\tstack.yaml\n",
       "040000 tree 5a31f4504478b21df9cbd46f4d0ce9552fcf74af\ttest"
      ]
     },
     "metadata": {},
     "output_type": "display_data"
    }
   ],
   "source": [
    ":!git cat-file -p master^{tree}"
   ]
  },
  {
   "cell_type": "markdown",
   "metadata": {},
   "source": [
    "Again, we can obtain almost identical (modulo formatting) output with `duffer`:"
   ]
  },
  {
   "cell_type": "code",
   "execution_count": 5,
   "metadata": {
    "collapsed": false
   },
   "outputs": [
    {
     "data": {
      "text/html": [
       "<style>/* Styles used for the Hoogle display in the pager */\n",
       ".hoogle-doc {\n",
       "display: block;\n",
       "padding-bottom: 1.3em;\n",
       "padding-left: 0.4em;\n",
       "}\n",
       ".hoogle-code {\n",
       "display: block;\n",
       "font-family: monospace;\n",
       "white-space: pre;\n",
       "}\n",
       ".hoogle-text {\n",
       "display: block;\n",
       "}\n",
       ".hoogle-name {\n",
       "color: green;\n",
       "font-weight: bold;\n",
       "}\n",
       ".hoogle-head {\n",
       "font-weight: bold;\n",
       "}\n",
       ".hoogle-sub {\n",
       "display: block;\n",
       "margin-left: 0.4em;\n",
       "}\n",
       ".hoogle-package {\n",
       "font-weight: bold;\n",
       "font-style: italic;\n",
       "}\n",
       ".hoogle-module {\n",
       "font-weight: bold;\n",
       "}\n",
       ".hoogle-class {\n",
       "font-weight: bold;\n",
       "}\n",
       ".get-type {\n",
       "color: green;\n",
       "font-weight: bold;\n",
       "font-family: monospace;\n",
       "display: block;\n",
       "white-space: pre-wrap;\n",
       "}\n",
       ".show-type {\n",
       "color: green;\n",
       "font-weight: bold;\n",
       "font-family: monospace;\n",
       "margin-left: 1em;\n",
       "}\n",
       ".mono {\n",
       "font-family: monospace;\n",
       "display: block;\n",
       "}\n",
       ".err-msg {\n",
       "color: red;\n",
       "font-style: italic;\n",
       "font-family: monospace;\n",
       "white-space: pre;\n",
       "display: block;\n",
       "}\n",
       "#unshowable {\n",
       "color: red;\n",
       "font-weight: bold;\n",
       "}\n",
       ".err-msg.in.collapse {\n",
       "padding-top: 0.7em;\n",
       "}\n",
       ".highlight-code {\n",
       "white-space: pre;\n",
       "font-family: monospace;\n",
       "}\n",
       ".suggestion-warning { \n",
       "font-weight: bold;\n",
       "color: rgb(200, 130, 0);\n",
       "}\n",
       ".suggestion-error { \n",
       "font-weight: bold;\n",
       "color: red;\n",
       "}\n",
       ".suggestion-name {\n",
       "font-weight: bold;\n",
       "}\n",
       "</style><span class='err-msg'>Not in scope: ‘treeRef’</span>"
      ],
      "text/plain": [
       "Not in scope: ‘treeRef’"
      ]
     },
     "metadata": {},
     "output_type": "display_data"
    }
   ],
   "source": [
    "duffer $ do\n",
    "    master    <- resolveRef' \"refs/heads/master\"\n",
    "    let tree  =  treeRef master\n",
    "    readObject' tree"
   ]
  },
  {
   "cell_type": "markdown",
   "metadata": {},
   "source": [
    "`git` implements a giant hashtable on the filesystem using SHA1 as the hashing function. It stores all the past files and directory listings as `zlib`-compressed text files (with a header denoting object type and length) under `.git/objects` as follows:\n",
    "\n",
    "1. Compute a SHA1 hash of the content.\n",
    "2. `zlib`-compress the content.\n",
    "3. Take the first 2 characters of the hash. This is the subdirectory under `.git/objects` where the content will be stored.\n",
    "4. The remaining 38 characters of the hash are the filename.\n",
    "\n",
    "<img src=\"//git-scm.com/book/en/v2/book/10-git-internals/images/data-model-3.png\">\n",
    "Source: https://git-scm.com/book/en/v2/Git-Internals-Git-Objects"
   ]
  },
  {
   "cell_type": "markdown",
   "metadata": {},
   "source": [
    "For example, a decompressed commit looks like:"
   ]
  },
  {
   "cell_type": "code",
   "execution_count": 6,
   "metadata": {
    "collapsed": false
   },
   "outputs": [
    {
     "data": {
      "text/plain": [
       "cat: .git/objects/4b/d9b179bb166b85e3e889f9f263f1b5a26f3e34: No such file or directory"
      ]
     },
     "metadata": {},
     "output_type": "display_data"
    }
   ],
   "source": [
    ":!cat .git/objects/4b/d9b179bb166b85e3e889f9f263f1b5a26f3e34 | zlib-flate -uncompress"
   ]
  },
  {
   "cell_type": "code",
   "execution_count": 7,
   "metadata": {
    "collapsed": false
   },
   "outputs": [
    {
     "data": {
      "text/plain": [
       "tree 0b36647819f93c5523b5967d19cb131d88ab1be4\n",
       "parent 2577894fb379a7cbe2e3bfd3ba325f4e451bbb5f\n",
       "parent d72ae27a9ae58d49235ff9761cfae816b004d9b1\n",
       "author Vaibhav Sagar <vaibhavsagar@gmail.com> 1473766850 -0400\n",
       "committer Vaibhav Sagar <vaibhavsagar@gmail.com> 1473766850 -0400\n",
       "\n",
       "Add porcelain."
      ]
     },
     "metadata": {},
     "output_type": "display_data"
    }
   ],
   "source": [
    "duffer $ readObject' \"4bd9b179bb166b85e3e889f9f263f1b5a26f3e34\""
   ]
  },
  {
   "cell_type": "code",
   "execution_count": 8,
   "metadata": {
    "collapsed": false
   },
   "outputs": [
    {
     "data": {
      "text/plain": [
       "  CRCBug\n",
       "  gh-pages\n",
       "* master"
      ]
     },
     "metadata": {},
     "output_type": "display_data"
    }
   ],
   "source": [
    ":!git branch"
   ]
  },
  {
   "cell_type": "code",
   "execution_count": 9,
   "metadata": {
    "collapsed": false
   },
   "outputs": [
    {
     "data": {
      "text/plain": [
       "tree 7ebf37c4301186eaafe4a5ffd24e4bdda5a095ae\n",
       "parent 5823cef8c5519b279333c420406611fe25934fed\n",
       "author Vaibhav Sagar <vaibhavsagar@gmail.com> 1482990504 +0700\n",
       "committer Vaibhav Sagar <vaibhavsagar@gmail.com> 1482990504 +0700\n",
       "\n",
       "Refactor setMSBs."
      ]
     },
     "metadata": {},
     "output_type": "display_data"
    }
   ],
   "source": [
    "duffer $ do\n",
    "    current  <- resolveRef' \"refs/heads/master\"\n",
    "    parent   <- fromJust <$> current ^^ 1\n",
    "    fromJust <$> parent ~~ 1"
   ]
  },
  {
   "cell_type": "markdown",
   "metadata": {},
   "source": [
    "As mentioned previously, the hash of a `git` object uniquely identifies it in the giant hashtable that is `git`"
   ]
  },
  {
   "cell_type": "code",
   "execution_count": 10,
   "metadata": {
    "collapsed": false
   },
   "outputs": [
    {
     "data": {
      "text/plain": [
       "\"a28aded05daa52ff5d0c77cd6186b1ce0faf7c8c\""
      ]
     },
     "metadata": {},
     "output_type": "display_data"
    }
   ],
   "source": [
    "tree <- duffer $ readObject' \"a28aded05daa52ff5d0c77cd6186b1ce0faf7c8c\"\n",
    "hash tree"
   ]
  },
  {
   "cell_type": "markdown",
   "metadata": {},
   "source": [
    "`git` refers to files as `blob`s."
   ]
  },
  {
   "cell_type": "code",
   "execution_count": 11,
   "metadata": {
    "collapsed": false,
    "scrolled": true
   },
   "outputs": [
    {
     "data": {
      "text/plain": [
       "Copyright Vaibhav Sagar (c) 2015\n",
       "\n",
       "All rights reserved.\n",
       "\n",
       "Redistribution and use in source and binary forms, with or without\n",
       "modification, are permitted provided that the following conditions are met:\n",
       "\n",
       "    * Redistributions of source code must retain the above copyright\n",
       "      notice, this list of conditions and the following disclaimer.\n",
       "\n",
       "    * Redistributions in binary form must reproduce the above\n",
       "      copyright notice, this list of conditions and the following\n",
       "      disclaimer in the documentation and/or other materials provided\n",
       "      with the distribution.\n",
       "\n",
       "    * Neither the name of Vaibhav Sagar nor the names of other\n",
       "      contributors may be used to endorse or promote products derived\n",
       "      from this software without specific prior written permission.\n",
       "\n",
       "THIS SOFTWARE IS PROVIDED BY THE COPYRIGHT HOLDERS AND CONTRIBUTORS\n",
       "\"AS IS\" AND ANY EXPRESS OR IMPLIED WARRANTIES, INCLUDING, BUT NOT\n",
       "LIMITED TO, THE IMPLIED WARRANTIES OF MERCHANTABILITY AND FITNESS FOR\n",
       "A PARTICULAR PURPOSE ARE DISCLAIMED. IN NO EVENT SHALL THE COPYRIGHT\n",
       "OWNER OR CONTRIBUTORS BE LIABLE FOR ANY DIRECT, INDIRECT, INCIDENTAL,\n",
       "SPECIAL, EXEMPLARY, OR CONSEQUENTIAL DAMAGES (INCLUDING, BUT NOT\n",
       "LIMITED TO, PROCUREMENT OF SUBSTITUTE GOODS OR SERVICES; LOSS OF USE,\n",
       "DATA, OR PROFITS; OR BUSINESS INTERRUPTION) HOWEVER CAUSED AND ON ANY\n",
       "THEORY OF LIABILITY, WHETHER IN CONTRACT, STRICT LIABILITY, OR TORT\n",
       "(INCLUDING NEGLIGENCE OR OTHERWISE) ARISING IN ANY WAY OUT OF THE USE\n",
       "OF THIS SOFTWARE, EVEN IF ADVISED OF THE POSSIBILITY OF SUCH DAMAGE."
      ]
     },
     "metadata": {},
     "output_type": "display_data"
    }
   ],
   "source": [
    "duffer $ readObject' \"b75f4c9dbe3b61cacba052f23461834468832e41\""
   ]
  },
  {
   "cell_type": "markdown",
   "metadata": {},
   "source": [
    "The last type of `git` object is a `tag`, which gives a name to another `git` object."
   ]
  },
  {
   "cell_type": "code",
   "execution_count": 12,
   "metadata": {
    "collapsed": false
   },
   "outputs": [
    {
     "data": {
      "text/plain": [
       "object 25354a5cfebca0261cdaa87ebef3a6b9dcb9c13a\n",
       "type commit\n",
       "tag test\n",
       "tagger Vaibhav Sagar <vaibhavsagar@gmail.com> 1459935215 +1000\n",
       "\n",
       "Test tag."
      ]
     },
     "metadata": {},
     "output_type": "display_data"
    }
   ],
   "source": [
    "duffer $ readObject' \"d4b1e0343313ab60688cf0ddfa8ae5d8fe60ec23\""
   ]
  },
  {
   "cell_type": "markdown",
   "metadata": {},
   "source": [
    "`duffer` is pretty great at reading `git` repositories, but that's not all you can do with it. You can also add content to a `git` repository with it:"
   ]
  },
  {
   "cell_type": "code",
   "execution_count": 13,
   "metadata": {
    "collapsed": false
   },
   "outputs": [
    {
     "data": {
      "text/plain": [
       "\"95d09f2b10159347eece71399a7e2e907ea3df4f\""
      ]
     },
     "metadata": {},
     "output_type": "display_data"
    }
   ],
   "source": [
    "import Data.ByteString.UTF8 (fromString, toString)\n",
    "blob = Blob (fromString \"hello world\")\n",
    "duffer $ writeLooseObject blob"
   ]
  },
  {
   "cell_type": "code",
   "execution_count": 14,
   "metadata": {
    "collapsed": false
   },
   "outputs": [
    {
     "data": {
      "text/plain": [
       "hello world"
      ]
     },
     "metadata": {},
     "output_type": "display_data"
    }
   ],
   "source": [
    ":!git cat-file -p 95d09f2b10159347eece71399a7e2e907ea3df4f"
   ]
  },
  {
   "cell_type": "code",
   "execution_count": 15,
   "metadata": {
    "collapsed": false
   },
   "outputs": [
    {
     "data": {
      "text/plain": [
       "  CRCBug\n",
       "  gh-pages\n",
       "* master"
      ]
     },
     "metadata": {},
     "output_type": "display_data"
    }
   ],
   "source": [
    ":!git branch"
   ]
  },
  {
   "cell_type": "code",
   "execution_count": 16,
   "metadata": {
    "collapsed": false
   },
   "outputs": [
    {
     "data": {
      "text/plain": [
       "\"1e564b41970850d4195e03426edbed0062a022f6\""
      ]
     },
     "metadata": {},
     "output_type": "display_data"
    }
   ],
   "source": [
    "currentCommit = resolveRef' \"refs/heads/master\"\n",
    "duffer $ currentCommit >>= \\commit -> updateRef \"refs/heads/new-branch\" commit"
   ]
  },
  {
   "cell_type": "code",
   "execution_count": 17,
   "metadata": {
    "collapsed": false
   },
   "outputs": [
    {
     "data": {
      "text/plain": [
       "  CRCBug\n",
       "  gh-pages\n",
       "* master\n",
       "  new-branch"
      ]
     },
     "metadata": {},
     "output_type": "display_data"
    }
   ],
   "source": [
    ":!git branch"
   ]
  },
  {
   "cell_type": "code",
   "execution_count": 18,
   "metadata": {
    "collapsed": false
   },
   "outputs": [
    {
     "data": {
      "text/plain": [
       "040000\ttree\tb8c0fd17ebd7bad61687fe06449b0a484b207efb\t.ci\n",
       "100644\tblob\t81121aed8fc5c5539cd7cdfddfbd1fa95b0d8d68\t.gitignore\n",
       "100644\tblob\tbb0388c0688bbdf4ca6d6f8dcd8c413af9052fb3\t.travis.yml\n",
       "100644\tblob\t40047c95db5ba581586d5ced7b041b64a9635512\tLICENSE\n",
       "100644\tblob\t4386fd1a60c5ad0bc9d7e86a3249f9cbde106368\tREADME.md\n",
       "100644\tblob\t9a994af677b0dfd41b4e3b76b3e7e604003d64e1\tSetup.hs\n",
       "100644\tblob\td3ac90107ae9f9fd34a01552afffdbd7d578d4cb\tduffer.cabal\n",
       "040000\ttree\t4dddc0f36174ea828c2d9b993e18690d469cf756\tnotebooks\n",
       "040000\ttree\t787554971c1c709fc4e6d143fdad13294387794b\tpresentation\n",
       "040000\ttree\t1994636ab8b57c3abec68209348c74ecd0704e92\tsrc\n",
       "100644\tblob\teb74213f76d429860b6f803a9e0a4e8f28bc2fa8\tstack.yaml\n",
       "040000\ttree\t5a31f4504478b21df9cbd46f4d0ce9552fcf74af\ttest"
      ]
     },
     "metadata": {},
     "output_type": "display_data"
    }
   ],
   "source": [
    "rootTree = duffer $ commitTreeRef <$> currentCommit >>= readObject'\n",
    "rootTree"
   ]
  },
  {
   "cell_type": "code",
   "execution_count": 19,
   "metadata": {
    "collapsed": false
   },
   "outputs": [
    {
     "data": {
      "text/plain": [
       "\"36f19067e7f47e5f240e1b80b6f3c9e728840b55\""
      ]
     },
     "metadata": {},
     "output_type": "display_data"
    }
   ],
   "source": [
    "newFile = TreeEntry Regular \"new-file\" \"95d09f2b10159347eece71399a7e2e907ea3df4f\"\n",
    "duffer $ do\n",
    "    entries        <- liftIO $ treeEntries <$> rootTree\n",
    "    let newEntries =  S.insert newFile entries\n",
    "    newTree        <- writeLooseObject (Tree newEntries)\n",
    "    let me         =  PersonTime \"Vaibhav Sagar\" \"vaibhavsagar@gmail.com\" \"1461156164\" \"+1000\" \n",
    "    let newCommit  =  Commit newTree [\"d76238fed6c656183a4d4dcf287217a061043869\"] me me \"New commit.\"\n",
    "    newHead        <- writeLooseObject newCommit\n",
    "    updateRef \"refs/heads/new-branch\" newCommit"
   ]
  },
  {
   "cell_type": "code",
   "execution_count": 20,
   "metadata": {
    "collapsed": false
   },
   "outputs": [
    {
     "data": {
      "text/plain": [
       "040000\ttree\tb8c0fd17ebd7bad61687fe06449b0a484b207efb\t.ci\n",
       "100644\tblob\t81121aed8fc5c5539cd7cdfddfbd1fa95b0d8d68\t.gitignore\n",
       "100644\tblob\tbb0388c0688bbdf4ca6d6f8dcd8c413af9052fb3\t.travis.yml\n",
       "100644\tblob\t40047c95db5ba581586d5ced7b041b64a9635512\tLICENSE\n",
       "100644\tblob\t4386fd1a60c5ad0bc9d7e86a3249f9cbde106368\tREADME.md\n",
       "100644\tblob\t9a994af677b0dfd41b4e3b76b3e7e604003d64e1\tSetup.hs\n",
       "100644\tblob\td3ac90107ae9f9fd34a01552afffdbd7d578d4cb\tduffer.cabal\n",
       "100644\tblob\t95d09f2b10159347eece71399a7e2e907ea3df4f\tnew-file\n",
       "040000\ttree\t4dddc0f36174ea828c2d9b993e18690d469cf756\tnotebooks\n",
       "040000\ttree\t787554971c1c709fc4e6d143fdad13294387794b\tpresentation\n",
       "040000\ttree\t1994636ab8b57c3abec68209348c74ecd0704e92\tsrc\n",
       "100644\tblob\teb74213f76d429860b6f803a9e0a4e8f28bc2fa8\tstack.yaml\n",
       "040000\ttree\t5a31f4504478b21df9cbd46f4d0ce9552fcf74af\ttest"
      ]
     },
     "metadata": {},
     "output_type": "display_data"
    }
   ],
   "source": [
    "newTree = duffer $ commitTreeRef <$> resolveRef' \"refs/heads/new-branch\" >>= readObject'\n",
    "newTree"
   ]
  }
 ],
 "metadata": {
  "kernelspec": {
   "display_name": "Haskell",
   "language": "haskell",
   "name": "haskell"
  },
  "language_info": {
   "codemirror_mode": "ihaskell",
   "file_extension": ".hs",
   "name": "haskell",
   "version": "7.10.3"
  }
 },
 "nbformat": 4,
 "nbformat_minor": 0
}
